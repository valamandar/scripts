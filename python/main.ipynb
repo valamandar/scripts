{
 "cells": [
  {
   "cell_type": "markdown",
   "metadata": {},
   "source": [
    "# Markdown to PDF Conversion with Custom CSS\n",
    "\n",
    "This notebook demonstrates how to convert Markdown content into a PDF using two steps:\n",
    "1. Write Markdown content into a file.\n",
    "2. Convert Markdown to HTML using `pandoc`. sudo apt-get install pandoc\n",
    "3. Apply custom CSS for styling.\n",
    "4. Convert HTML to PDF using `wkhtmltopdf`.\n",
    "\n",
    "Let's start by defining our Markdown content, CSS styles, and perform the conversion.\n"
   ]
  },
  {
   "cell_type": "code",
   "execution_count": 1,
   "metadata": {},
   "outputs": [
    {
     "name": "stdout",
     "output_type": "stream",
     "text": [
      "Collecting markdown\n",
      "  Downloading Markdown-3.7-py3-none-any.whl.metadata (7.0 kB)\n",
      "Collecting pdfkit\n",
      "  Downloading pdfkit-1.0.0-py3-none-any.whl.metadata (9.3 kB)\n",
      "Collecting PyQt5\n",
      "  Downloading PyQt5-5.15.11-cp38-abi3-manylinux_2_17_x86_64.whl.metadata (2.1 kB)\n",
      "Collecting PyQt5-sip<13,>=12.15 (from PyQt5)\n",
      "  Downloading PyQt5_sip-12.15.0-cp312-cp312-manylinux_2_5_x86_64.manylinux1_x86_64.whl.metadata (421 bytes)\n",
      "Collecting PyQt5-Qt5<5.16.0,>=5.15.2 (from PyQt5)\n",
      "  Downloading PyQt5_Qt5-5.15.15-py3-none-manylinux2014_x86_64.whl.metadata (536 bytes)\n",
      "Downloading Markdown-3.7-py3-none-any.whl (106 kB)\n",
      "\u001b[2K   \u001b[38;2;114;156;31m━━━━━━━━━━━━━━━━━━━━━━━━━━━━━━━━━━━━━━━\u001b[0m \u001b[32m106.3/106.3 kB\u001b[0m \u001b[31m185.3 kB/s\u001b[0m eta \u001b[36m0:00:00\u001b[0m1m186.2 kB/s\u001b[0m eta \u001b[36m0:00:01\u001b[0m\n",
      "\u001b[?25hDownloading pdfkit-1.0.0-py3-none-any.whl (12 kB)\n",
      "Downloading PyQt5-5.15.11-cp38-abi3-manylinux_2_17_x86_64.whl (8.2 MB)\n",
      "\u001b[2K   \u001b[38;2;114;156;31m━━━━━━━━━━━━━━━━━━━━━━━━━━━━━━━━━━━━━━━━\u001b[0m \u001b[32m8.2/8.2 MB\u001b[0m \u001b[31m573.6 kB/s\u001b[0m eta \u001b[36m0:00:00\u001b[0mm eta \u001b[36m0:00:01\u001b[0m[36m0:00:01\u001b[0m\n",
      "\u001b[?25hDownloading PyQt5_Qt5-5.15.15-py3-none-manylinux2014_x86_64.whl (59.8 MB)\n",
      "\u001b[2K   \u001b[38;2;114;156;31m━━━━━━━━━━━━━━━━━━━━━━━━━━━━━━━━━━━━━━━━\u001b[0m \u001b[32m59.8/59.8 MB\u001b[0m \u001b[31m627.3 kB/s\u001b[0m eta \u001b[36m0:00:00\u001b[0mm eta \u001b[36m0:00:01\u001b[0m[36m0:00:04\u001b[0m\n",
      "\u001b[?25hDownloading PyQt5_sip-12.15.0-cp312-cp312-manylinux_2_5_x86_64.manylinux1_x86_64.whl (281 kB)\n",
      "\u001b[2K   \u001b[38;2;114;156;31m━━━━━━━━━━━━━━━━━━━━━━━━━━━━━━━━━━━━━━━━\u001b[0m \u001b[32m281.4/281.4 kB\u001b[0m \u001b[31m1.1 MB/s\u001b[0m eta \u001b[36m0:00:00\u001b[0m[36m0:00:01\u001b[0m[36m0:00:01\u001b[0m:01\u001b[0m\n",
      "\u001b[?25hInstalling collected packages: PyQt5-Qt5, pdfkit, PyQt5-sip, markdown, PyQt5\n",
      "Successfully installed PyQt5-5.15.11 PyQt5-Qt5-5.15.15 PyQt5-sip-12.15.0 markdown-3.7 pdfkit-1.0.0\n",
      "Note: you may need to restart the kernel to use updated packages.\n"
     ]
    }
   ],
   "source": [
    "import shutil\n",
    "import os\n",
    "import subprocess\n",
    "# sudo apt-get install pandoc\n",
    "try:\n",
    "    # Check if pandoc is installed\n",
    "\n",
    "    # Check if wkhtmltopdf is installed\n",
    "\n",
    "    # Install necessary Python libraries\n",
    "    import markdown\n",
    "    import pdfkit\n",
    "    import PyQt5\n",
    "except ImportError:\n",
    "    %pip install markdown pdfkit PyQt5\n",
    "\n",
    "    # assert shutil.which(\"pandoc\"), \"Pandoc is not installed. Please install it before proceeding.\"\n",
    "    # assert shutil.which(\"wkhtmltopdf\"), \"wkhtmltopdf is not installed. Please install it before proceeding.\""
   ]
  },
  {
   "cell_type": "code",
   "execution_count": 1,
   "metadata": {},
   "outputs": [
    {
     "name": "stdout",
     "output_type": "stream",
     "text": [
      "Collecting email\n",
      "  Downloading email-4.0.2.tar.gz (1.2 MB)\n",
      "\u001b[2K     \u001b[38;2;114;156;31m━━━━━━━━━━━━━━━━━━━━━━━━━━━━━━━━━━━━━━━━\u001b[0m \u001b[32m1.2/1.2 MB\u001b[0m \u001b[31m256.2 kB/s\u001b[0m eta \u001b[36m0:00:00\u001b[0mm eta \u001b[36m0:00:01\u001b[0m0:01\u001b[0m:01\u001b[0m\n",
      "\u001b[?25h  Installing build dependencies ... \u001b[?25ldone\n",
      "\u001b[?25h  Getting requirements to build wheel ... \u001b[?25lerror\n",
      "  \u001b[1;31merror\u001b[0m: \u001b[1msubprocess-exited-with-error\u001b[0m\n",
      "  \n",
      "  \u001b[31m×\u001b[0m \u001b[32mGetting requirements to build wheel\u001b[0m did not run successfully.\n",
      "  \u001b[31m│\u001b[0m exit code: \u001b[1;36m1\u001b[0m\n",
      "  \u001b[31m╰─>\u001b[0m \u001b[31m[23 lines of output]\u001b[0m\n",
      "  \u001b[31m   \u001b[0m Traceback (most recent call last):\n",
      "  \u001b[31m   \u001b[0m   File \"/home/valamandar/projects/scripts/python/.venv/lib/python3.12/site-packages/pip/_vendor/pyproject_hooks/_in_process/_in_process.py\", line 353, in <module>\n",
      "  \u001b[31m   \u001b[0m     main()\n",
      "  \u001b[31m   \u001b[0m   File \"/home/valamandar/projects/scripts/python/.venv/lib/python3.12/site-packages/pip/_vendor/pyproject_hooks/_in_process/_in_process.py\", line 335, in main\n",
      "  \u001b[31m   \u001b[0m     json_out['return_val'] = hook(**hook_input['kwargs'])\n",
      "  \u001b[31m   \u001b[0m                              ^^^^^^^^^^^^^^^^^^^^^^^^^^^^\n",
      "  \u001b[31m   \u001b[0m   File \"/home/valamandar/projects/scripts/python/.venv/lib/python3.12/site-packages/pip/_vendor/pyproject_hooks/_in_process/_in_process.py\", line 118, in get_requires_for_build_wheel\n",
      "  \u001b[31m   \u001b[0m     return hook(config_settings)\n",
      "  \u001b[31m   \u001b[0m            ^^^^^^^^^^^^^^^^^^^^^\n",
      "  \u001b[31m   \u001b[0m   File \"/tmp/pip-build-env-5plo828n/overlay/lib/python3.12/site-packages/setuptools/build_meta.py\", line 327, in get_requires_for_build_wheel\n",
      "  \u001b[31m   \u001b[0m     return self._get_build_requires(config_settings, requirements=[])\n",
      "  \u001b[31m   \u001b[0m            ^^^^^^^^^^^^^^^^^^^^^^^^^^^^^^^^^^^^^^^^^^^^^^^^^^^^^^^^^^\n",
      "  \u001b[31m   \u001b[0m   File \"/tmp/pip-build-env-5plo828n/overlay/lib/python3.12/site-packages/setuptools/build_meta.py\", line 297, in _get_build_requires\n",
      "  \u001b[31m   \u001b[0m     self.run_setup()\n",
      "  \u001b[31m   \u001b[0m   File \"/tmp/pip-build-env-5plo828n/overlay/lib/python3.12/site-packages/setuptools/build_meta.py\", line 497, in run_setup\n",
      "  \u001b[31m   \u001b[0m     super().run_setup(setup_script=setup_script)\n",
      "  \u001b[31m   \u001b[0m   File \"/tmp/pip-build-env-5plo828n/overlay/lib/python3.12/site-packages/setuptools/build_meta.py\", line 313, in run_setup\n",
      "  \u001b[31m   \u001b[0m     exec(code, locals())\n",
      "  \u001b[31m   \u001b[0m   File \"<string>\", line 3, in <module>\n",
      "  \u001b[31m   \u001b[0m   File \"/tmp/pip-install-813ovaad/email_b812198b836d42b4808f03bff7fc9183/ez_setup.py\", line 91\n",
      "  \u001b[31m   \u001b[0m     except pkg_resources.VersionConflict, e:\n",
      "  \u001b[31m   \u001b[0m            ^^^^^^^^^^^^^^^^^^^^^^^^^^^^^^^^\n",
      "  \u001b[31m   \u001b[0m SyntaxError: multiple exception types must be parenthesized\n",
      "  \u001b[31m   \u001b[0m \u001b[31m[end of output]\u001b[0m\n",
      "  \n",
      "  \u001b[1;35mnote\u001b[0m: This error originates from a subprocess, and is likely not a problem with pip.\n",
      "\u001b[?25h\u001b[1;31merror\u001b[0m: \u001b[1msubprocess-exited-with-error\u001b[0m\n",
      "\n",
      "\u001b[31m×\u001b[0m \u001b[32mGetting requirements to build wheel\u001b[0m did not run successfully.\n",
      "\u001b[31m│\u001b[0m exit code: \u001b[1;36m1\u001b[0m\n",
      "\u001b[31m╰─>\u001b[0m See above for output.\n",
      "\n",
      "\u001b[1;35mnote\u001b[0m: This error originates from a subprocess, and is likely not a problem with pip.\n",
      "Note: you may need to restart the kernel to use updated packages.\n",
      "Email successfully sent to valamandar1@gmail.com\n"
     ]
    }
   ],
   "source": [
    "%pip install email\n",
    "\n",
    "\n",
    "import smtplib\n",
    "from email.mime.multipart import MIMEMultipart\n",
    "from email.mime.text import MIMEText\n",
    "\n",
    "def send_email(subject, message, to_email):\n",
    "    # SMTP Server details\n",
    "    smtp_server = \"smtp.hostinger.com\"  # This could be different based on your host. Check Hostinger's documentation.\n",
    "    smtp_port = 587  # Use 465 for SSL, 587 for TLS\n",
    "    smtp_user = \"wecloud@valamandar.com\"  # Your email address\n",
    "    smtp_password = \"###Jarvis###30\"  # Your email password\n",
    "\n",
    "    # Email details\n",
    "    from_email = smtp_user\n",
    "    to_email = to_email\n",
    "\n",
    "    # Create message container\n",
    "    msg = MIMEMultipart()\n",
    "    msg['From'] = from_email\n",
    "    msg['To'] = to_email\n",
    "    msg['Subject'] = subject\n",
    "\n",
    "    # Attach the message\n",
    "    msg.attach(MIMEText(message, 'plain'))\n",
    "\n",
    "    try:\n",
    "        # Setup the SMTP server\n",
    "        server = smtplib.SMTP(host=smtp_server, port=smtp_port)\n",
    "        server.starttls()  # Use TLS\n",
    "        server.login(smtp_user, smtp_password)\n",
    "\n",
    "        # Send the email\n",
    "        server.sendmail(from_email, to_email, msg.as_string())\n",
    "\n",
    "        # Disconnect from the server\n",
    "        server.quit()\n",
    "\n",
    "        print(f\"Email successfully sent to {to_email}\")\n",
    "    except Exception as e:\n",
    "        print(f\"Failed to send email: {e}\")\n",
    "\n",
    "# Example usage\n",
    "send_email(\n",
    "    subject=\"Test Email from Python\",\n",
    "    message=\"Hello, this is a test email sent from Python via Hostinger.\",\n",
    "    to_email=\"valamandar1@gmail.com\"\n",
    ")\n"
   ]
  },
  {
   "cell_type": "code",
   "execution_count": 11,
   "metadata": {},
   "outputs": [],
   "source": [
    "# Define your Markdown content\n",
    "markdown_content = \"\"\"\n",
    "\n",
    "\n",
    "# Sample Document\n",
    "\n",
    "This is a sample Markdown document.\n",
    "\n",
    "## Section 1\n",
    "\n",
    "- Item 1\n",
    "- Item 2\n",
    "- Item 3\n",
    "\n",
    "## Section 2\n",
    "\n",
    "Here's a link to [OpenAI](https://openai.com).\n",
    "\n",
    "### Subsection\n",
    "\n",
    "`Inline code` and a code block:\n",
    "\n",
    "```python\n",
    "print(\"Hello, World!\")\n",
    "\n",
    "\n",
    "\"\"\"\n"
   ]
  },
  {
   "cell_type": "code",
   "execution_count": 15,
   "metadata": {},
   "outputs": [],
   "source": [
    "css_styles =\"\"\"\n",
    "\n",
    "\n",
    "/* Style de base pour le corps du document */\n",
    "body {\n",
    "    font-family: 'Arial', sans-serif;\n",
    "    margin: 40px;\n",
    "    line-height: 1.6;\n",
    "    color: #333;\n",
    "    background-color: #f9f9f9;\n",
    "}\n",
    "\n",
    "/* Style pour les titres */\n",
    "h1, h2, h3, h4, h5, h6 {\n",
    "    color: #2c3e50;\n",
    "    font-weight: bold;\n",
    "    margin-top: 20px;\n",
    "    margin-bottom: 10px;\n",
    "}\n",
    "\n",
    "h1 {\n",
    "    font-size: 2.5em;\n",
    "    border-bottom: 2px solid #e74c3c;\n",
    "    padding-bottom: 10px;\n",
    "}\n",
    "\n",
    "h2 {\n",
    "    font-size: 2em;\n",
    "    border-bottom: 1px solid #e74c3c;\n",
    "    padding-bottom: 5px;\n",
    "}\n",
    "\n",
    "h3 {\n",
    "    font-size: 1.75em;\n",
    "}\n",
    "\n",
    "h4 {\n",
    "    font-size: 1.5em;\n",
    "}\n",
    "\n",
    "h5 {\n",
    "    font-size: 1.25em;\n",
    "}\n",
    "\n",
    "h6 {\n",
    "    font-size: 1em;\n",
    "    color: #7f8c8d;\n",
    "}\n",
    "\n",
    "/* Style pour les paragraphes */\n",
    "p {\n",
    "    margin-bottom: 15px;\n",
    "    color: #555;\n",
    "}\n",
    "\n",
    "/* Style pour les liens */\n",
    "a {\n",
    "    color: #3498db;\n",
    "    text-decoration: none;\n",
    "}\n",
    "\n",
    "a:hover {\n",
    "    text-decoration: underline;\n",
    "}\n",
    "\n",
    "/* Style pour les listes */\n",
    "ul, ol {\n",
    "    margin-bottom: 20px;\n",
    "    margin-left: 20px;\n",
    "}\n",
    "\n",
    "ul li, ol li {\n",
    "    margin-bottom: 5px;\n",
    "}\n",
    "\n",
    "/* Style pour les tableaux */\n",
    "table {\n",
    "    width: 100%;\n",
    "    border-collapse: collapse;\n",
    "    margin-bottom: 20px;\n",
    "}\n",
    "\n",
    "th, td {\n",
    "    border: 1px solid #ddd;\n",
    "    padding: 8px;\n",
    "    text-align: left;\n",
    "}\n",
    "\n",
    "th {\n",
    "    background-color: #f2f2f2;\n",
    "    color: #333;\n",
    "}\n",
    "\n",
    "/* Style pour le code inline */\n",
    "code {\n",
    "    font-family: 'Courier New', Courier, monospace;\n",
    "    background-color: #f4f4f4;\n",
    "    padding: 2px 4px;\n",
    "    border-radius: 4px;\n",
    "}\n",
    "\n",
    "/* Style pour les blocs de code */\n",
    "pre {\n",
    "    background-color: #f4f4f4;\n",
    "    border-radius: 4px;\n",
    "    padding: 10px;\n",
    "    overflow-x: auto;\n",
    "    font-family: 'Courier New', Courier, monospace;\n",
    "}\n",
    "\n",
    "/* Style pour les citations */\n",
    "blockquote {\n",
    "    margin: 0;\n",
    "    padding: 15px;\n",
    "    background-color: #e9ecef;\n",
    "    border-left: 5px solid #e74c3c;\n",
    "    font-style: italic;\n",
    "    color: #555;\n",
    "}\n",
    "\n",
    "/* Style pour les images */\n",
    "img {\n",
    "    max-width: 100%;\n",
    "    height: auto;\n",
    "    display: block;\n",
    "    margin: 20px auto;\n",
    "}\n",
    "\n",
    "/* Style pour les diviseurs horizontaux */\n",
    "hr {\n",
    "    border: 0;\n",
    "    height: 1px;\n",
    "    background: #ddd;\n",
    "    margin: 30px 0;\n",
    "}\n",
    "\n",
    "\n",
    "\n",
    "\n",
    " \"\"\""
   ]
  },
  {
   "cell_type": "markdown",
   "metadata": {},
   "source": [
    "\n",
    "#### 4. Write Markdown to File\n",
    "Save the Markdown content to a file."
   ]
  },
  {
   "cell_type": "code",
   "execution_count": 9,
   "metadata": {},
   "outputs": [],
   "source": [
    "# Write the Markdown content to a file\n",
    "def write_markdown_to_file(markdown_text, filename):\n",
    "    with open(filename, 'w', encoding='utf-8') as f:\n",
    "        f.write(markdown_text)\n",
    "    print(f\"Markdown content written to {filename}\")\n",
    "\n",
    "# Define Markdown file name\n",
    "markdown_file = 'generated/example.md'"
   ]
  },
  {
   "cell_type": "code",
   "execution_count": 12,
   "metadata": {},
   "outputs": [
    {
     "name": "stdout",
     "output_type": "stream",
     "text": [
      "Markdown content written to example.md\n"
     ]
    }
   ],
   "source": [
    "# Write Markdown content to file\n",
    "write_markdown_to_file(markdown_content, markdown_file)"
   ]
  },
  {
   "cell_type": "markdown",
   "metadata": {},
   "source": [
    "### 5. Convert Markdown to HTML with CSS\n",
    "\n",
    "Convert the Markdown to HTML and apply CSS using pandoc."
   ]
  },
  {
   "cell_type": "code",
   "execution_count": 18,
   "metadata": {},
   "outputs": [],
   "source": [
    "# Convert Markdown to HTML using pandoc and apply CSS\n",
    "css_file = 'generated/styles.css'\n",
    "def convert_md_to_html_with_css(input_md, output_html, css_styles):\n",
    "    # Write CSS to a file\n",
    "    with open(css_file, 'w', encoding='utf-8') as f:\n",
    "        f.write(css_styles)\n",
    "    print(f\"CSS styles written to {css_file}\")\n",
    "\n",
    "    # Use pandoc to convert Markdown to HTML with the CSS file\n",
    "    try:\n",
    "        subprocess.run([\"pandoc\", input_md, \"-o\", output_html, \"--css\", css_file, \"--self-contained\"], check=True)\n",
    "        print(f\"Successfully converted {input_md} to {output_html} with CSS\")\n",
    "    except subprocess.CalledProcessError as e:\n",
    "        print(f\"Error: {e}\")\n",
    "        raise\n",
    "\n",
    "# Define HTML file name\n",
    "html_file = 'generated/example.html'\n"
   ]
  },
  {
   "cell_type": "code",
   "execution_count": 19,
   "metadata": {},
   "outputs": [
    {
     "name": "stdout",
     "output_type": "stream",
     "text": [
      "CSS styles written to styles.css\n",
      "Successfully converted example.md to example.html with CSS\n"
     ]
    },
    {
     "name": "stderr",
     "output_type": "stream",
     "text": [
      "[WARNING] Deprecated: --self-contained. use --embed-resources --standalone\n",
      "[WARNING] This document format requires a nonempty <title> element.\n",
      "  Defaulting to 'example' as the title.\n",
      "  To specify a title, use 'title' in metadata or --metadata title=\"...\".\n"
     ]
    }
   ],
   "source": [
    "# Convert Markdown to HTML with CSS\n",
    "convert_md_to_html_with_css(markdown_file, html_file, css_styles)"
   ]
  },
  {
   "cell_type": "markdown",
   "metadata": {},
   "source": [
    "### 6. Convert HTML to PDF\n",
    "\n",
    "Convert the HTML file to a PDF using wkhtmltopdf."
   ]
  },
  {
   "cell_type": "code",
   "execution_count": 20,
   "metadata": {},
   "outputs": [],
   "source": [
    "# Convert HTML to PDF using wkhtmltopdf\n",
    "def convert_html_to_pdf(input_html, output_pdf):\n",
    "    try:\n",
    "        subprocess.run([\"wkhtmltopdf\", input_html, output_pdf], check=True)\n",
    "        print(f\"Successfully converted {input_html} to {output_pdf}\")\n",
    "    except subprocess.CalledProcessError as e:\n",
    "        print(f\"Error: {e}\")\n",
    "        raise\n",
    "\n",
    "# Define PDF file name\n",
    "pdf_file = 'generated/example.pdf'\n",
    "\n",
    "\n"
   ]
  },
  {
   "cell_type": "code",
   "execution_count": 21,
   "metadata": {},
   "outputs": [
    {
     "name": "stderr",
     "output_type": "stream",
     "text": [
      "Loading page (1/2)\n",
      "[============================================================] 100%\r"
     ]
    },
    {
     "name": "stdout",
     "output_type": "stream",
     "text": [
      "Successfully converted example.html to example.pdf\n"
     ]
    },
    {
     "name": "stderr",
     "output_type": "stream",
     "text": [
      "Printing pages (2/2)                                               \n",
      "Done                                                           \n"
     ]
    }
   ],
   "source": [
    "# Convert HTML to PDF\n",
    "convert_html_to_pdf(html_file, pdf_file)"
   ]
  },
  {
   "cell_type": "code",
   "execution_count": 22,
   "metadata": {},
   "outputs": [
    {
     "ename": "NameError",
     "evalue": "name 'css_file' is not defined",
     "output_type": "error",
     "traceback": [
      "\u001b[0;31m---------------------------------------------------------------------------\u001b[0m",
      "\u001b[0;31mNameError\u001b[0m                                 Traceback (most recent call last)",
      "Cell \u001b[0;32mIn[22], line 11\u001b[0m\n\u001b[1;32m      8\u001b[0m             \u001b[38;5;28mprint\u001b[39m(\u001b[38;5;124mf\u001b[39m\u001b[38;5;124m\"\u001b[39m\u001b[38;5;124mFile not found: \u001b[39m\u001b[38;5;132;01m{\u001b[39;00mfile\u001b[38;5;132;01m}\u001b[39;00m\u001b[38;5;124m\"\u001b[39m)\n\u001b[1;32m     10\u001b[0m \u001b[38;5;66;03m# List of files to remove\u001b[39;00m\n\u001b[0;32m---> 11\u001b[0m files_to_remove \u001b[38;5;241m=\u001b[39m [markdown_file, html_file, \u001b[43mcss_file\u001b[49m]\n\u001b[1;32m     13\u001b[0m \u001b[38;5;66;03m# Clean up intermediate files\u001b[39;00m\n\u001b[1;32m     14\u001b[0m clean_up(files_to_remove)\n",
      "\u001b[0;31mNameError\u001b[0m: name 'css_file' is not defined"
     ]
    }
   ],
   "source": [
    "# Clean up intermediate files\n",
    "def clean_up(files):\n",
    "    for file in files:\n",
    "        if os.path.exists(file):\n",
    "            os.remove(file)\n",
    "            print(f\"Removed file: {file}\")\n",
    "        else:\n",
    "            print(f\"File not found: {file}\")\n",
    "\n",
    "# List of files to remove\n",
    "files_to_remove = [markdown_file, html_file, css_file]\n",
    "\n",
    "# Clean up intermediate files\n",
    "clean_up(files_to_remove)\n"
   ]
  },
  {
   "cell_type": "code",
   "execution_count": 26,
   "metadata": {},
   "outputs": [],
   "source": [
    "mermaid_text=\"\"\" \n",
    "\n",
    "\n",
    "usecaseDiagram\n",
    "  actor Infirmier as \"Infirmier\"\n",
    "  actor Medecin as \"Médecin\"\n",
    "  actor Caissier as \"Caissier\"\n",
    "  actor Laborantin as \"Laborantin\"\n",
    "  actor Pharmacien as \"Pharmacien\"\n",
    "  actor Administrateur as \"Administrateur\"\n",
    "  actor Patient as \"Patient\"\n",
    "\n",
    "  Infirmier --> (Enregistrer un Patient)\n",
    "  Infirmier --> (Prendre un Rendez-vous)\n",
    "  Infirmier --> (Attribuer une Chambre)\n",
    "  Medecin --> (Consulter un Patient)\n",
    "  Medecin --> (Prescrire des Médicaments)\n",
    "  Medecin --> (Prescrire des Analyses)\n",
    "  Caissier --> (Valider un Rendez-vous)\n",
    "  Caissier --> (Gérer les Factures)\n",
    "  Laborantin --> (Enregistrer un Résultat d'Analyse)\n",
    "  Pharmacien --> (Gérer les Prescriptions)\n",
    "  Administrateur --> (Gérer les Utilisateurs)\n",
    "  Administrateur --> (Consulter les Rapports)\n",
    "  Patient --> (Consulter les Rendez-vous)\n",
    "\n",
    "\n",
    "\n",
    "\"\"\""
   ]
  },
  {
   "cell_type": "code",
   "execution_count": 29,
   "metadata": {},
   "outputs": [
    {
     "name": "stdout",
     "output_type": "stream",
     "text": [
      "Mermaid content written to generated/diagram.mmd\n"
     ]
    }
   ],
   "source": [
    "def write_mermaid_to_file(mermaid_text, filename):\n",
    "    with open(filename, 'w', encoding='utf-8') as f:\n",
    "        f.write(mermaid_text)\n",
    "    print(f\"Mermaid content written to {filename}\")\n",
    "\n",
    "\n",
    "mermaid_file=\"generated/diagram.mmd\"\n",
    "write_mermaid_to_file(mermaid_text, filename=mermaid_file)"
   ]
  },
  {
   "cell_type": "code",
   "execution_count": 30,
   "metadata": {},
   "outputs": [
    {
     "name": "stdout",
     "output_type": "stream",
     "text": [
      "Error Failed to convert Mermaid to PNG: Command '['mmdc', '-i', 'generated/diagram.mmd', '-o', 'generated/mermaid.png']' returned non-zero exit status 1.\n"
     ]
    },
    {
     "name": "stderr",
     "output_type": "stream",
     "text": [
      "\u001b[31m\u001b[39m\n",
      "\u001b[31mError: Could not find Chromium (rev. 1108766). This can occur if either\u001b[39m\n",
      "\u001b[31m 1. you did not perform an installation before running the script (e.g. `npm install`) or\u001b[39m\n",
      "\u001b[31m 2. your cache path is incorrectly configured (which is: /home/valamandar/.cache/puppeteer).\u001b[39m\n",
      "\u001b[31mFor (2), check out our guide on configuring puppeteer at https://pptr.dev/guides/configuration.\u001b[39m\n",
      "\u001b[31m    at ChromeLauncher.resolveExecutablePath (file:///usr/local/lib/node_modules/@mermaid-js/mermaid-cli/node_modules/puppeteer-core/lib/esm/puppeteer/node/ProductLauncher.js:263:27)\u001b[39m\n",
      "\u001b[31m    at ChromeLauncher.executablePath (file:///usr/local/lib/node_modules/@mermaid-js/mermaid-cli/node_modules/puppeteer-core/lib/esm/puppeteer/node/ChromeLauncher.js:176:25)\u001b[39m\n",
      "\u001b[31m    at ChromeLauncher.computeLaunchArguments (file:///usr/local/lib/node_modules/@mermaid-js/mermaid-cli/node_modules/puppeteer-core/lib/esm/puppeteer/node/ChromeLauncher.js:93:37)\u001b[39m\n",
      "\u001b[31m    at async ChromeLauncher.launch (file:///usr/local/lib/node_modules/@mermaid-js/mermaid-cli/node_modules/puppeteer-core/lib/esm/puppeteer/node/ProductLauncher.js:57:28)\u001b[39m\n",
      "\u001b[31m    at async run (file:///usr/local/lib/node_modules/@mermaid-js/mermaid-cli/src/index.js:416:19)\u001b[39m\n",
      "\u001b[31m    at async cli (file:///usr/local/lib/node_modules/@mermaid-js/mermaid-cli/src/index.js:192:3)\u001b[39m\n",
      "\u001b[31m\u001b[39m\n"
     ]
    },
    {
     "ename": "CalledProcessError",
     "evalue": "Command '['mmdc', '-i', 'generated/diagram.mmd', '-o', 'generated/mermaid.png']' returned non-zero exit status 1.",
     "output_type": "error",
     "traceback": [
      "\u001b[0;31m---------------------------------------------------------------------------\u001b[0m",
      "\u001b[0;31mCalledProcessError\u001b[0m                        Traceback (most recent call last)",
      "Cell \u001b[0;32mIn[30], line 11\u001b[0m\n\u001b[1;32m      8\u001b[0m         \u001b[38;5;28;01mraise\u001b[39;00m\n\u001b[1;32m     10\u001b[0m mermaid_png\u001b[38;5;241m=\u001b[39m\u001b[38;5;124m\"\u001b[39m\u001b[38;5;124mgenerated/mermaid.png\u001b[39m\u001b[38;5;124m\"\u001b[39m\n\u001b[0;32m---> 11\u001b[0m \u001b[43mconvert_mermaid_to_png\u001b[49m\u001b[43m(\u001b[49m\u001b[43mmermaid_file\u001b[49m\u001b[43m,\u001b[49m\u001b[43m \u001b[49m\u001b[43mmermaid_png\u001b[49m\u001b[43m)\u001b[49m\n",
      "Cell \u001b[0;32mIn[30], line 4\u001b[0m, in \u001b[0;36mconvert_mermaid_to_png\u001b[0;34m(input_mmd, output_png)\u001b[0m\n\u001b[1;32m      1\u001b[0m \u001b[38;5;28;01mdef\u001b[39;00m \u001b[38;5;21mconvert_mermaid_to_png\u001b[39m(input_mmd, output_png):\n\u001b[1;32m      2\u001b[0m     \u001b[38;5;28;01mtry\u001b[39;00m:\n\u001b[1;32m      3\u001b[0m         \u001b[38;5;66;03m# Run mermaid-cli to convert the Mermaid diagram to a PNG\u001b[39;00m\n\u001b[0;32m----> 4\u001b[0m         \u001b[43msubprocess\u001b[49m\u001b[38;5;241;43m.\u001b[39;49m\u001b[43mrun\u001b[49m\u001b[43m(\u001b[49m\u001b[43m[\u001b[49m\u001b[38;5;124;43m\"\u001b[39;49m\u001b[38;5;124;43mmmdc\u001b[39;49m\u001b[38;5;124;43m\"\u001b[39;49m\u001b[43m,\u001b[49m\u001b[43m \u001b[49m\u001b[38;5;124;43m\"\u001b[39;49m\u001b[38;5;124;43m-i\u001b[39;49m\u001b[38;5;124;43m\"\u001b[39;49m\u001b[43m,\u001b[49m\u001b[43m \u001b[49m\u001b[43minput_mmd\u001b[49m\u001b[43m,\u001b[49m\u001b[43m \u001b[49m\u001b[38;5;124;43m\"\u001b[39;49m\u001b[38;5;124;43m-o\u001b[39;49m\u001b[38;5;124;43m\"\u001b[39;49m\u001b[43m,\u001b[49m\u001b[43m \u001b[49m\u001b[43moutput_png\u001b[49m\u001b[43m]\u001b[49m\u001b[43m,\u001b[49m\u001b[43m \u001b[49m\u001b[43mcheck\u001b[49m\u001b[38;5;241;43m=\u001b[39;49m\u001b[38;5;28;43;01mTrue\u001b[39;49;00m\u001b[43m)\u001b[49m\n\u001b[1;32m      5\u001b[0m         \u001b[38;5;28mprint\u001b[39m(\u001b[38;5;124mf\u001b[39m\u001b[38;5;124m\"\u001b[39m\u001b[38;5;124mSuccessfully converted \u001b[39m\u001b[38;5;132;01m{\u001b[39;00minput_mmd\u001b[38;5;132;01m}\u001b[39;00m\u001b[38;5;124m to \u001b[39m\u001b[38;5;132;01m{\u001b[39;00moutput_png\u001b[38;5;132;01m}\u001b[39;00m\u001b[38;5;124m\"\u001b[39m)\n\u001b[1;32m      6\u001b[0m     \u001b[38;5;28;01mexcept\u001b[39;00m subprocess\u001b[38;5;241m.\u001b[39mCalledProcessError \u001b[38;5;28;01mas\u001b[39;00m e:\n",
      "File \u001b[0;32m/usr/lib/python3.12/subprocess.py:571\u001b[0m, in \u001b[0;36mrun\u001b[0;34m(input, capture_output, timeout, check, *popenargs, **kwargs)\u001b[0m\n\u001b[1;32m    569\u001b[0m     retcode \u001b[38;5;241m=\u001b[39m process\u001b[38;5;241m.\u001b[39mpoll()\n\u001b[1;32m    570\u001b[0m     \u001b[38;5;28;01mif\u001b[39;00m check \u001b[38;5;129;01mand\u001b[39;00m retcode:\n\u001b[0;32m--> 571\u001b[0m         \u001b[38;5;28;01mraise\u001b[39;00m CalledProcessError(retcode, process\u001b[38;5;241m.\u001b[39margs,\n\u001b[1;32m    572\u001b[0m                                  output\u001b[38;5;241m=\u001b[39mstdout, stderr\u001b[38;5;241m=\u001b[39mstderr)\n\u001b[1;32m    573\u001b[0m \u001b[38;5;28;01mreturn\u001b[39;00m CompletedProcess(process\u001b[38;5;241m.\u001b[39margs, retcode, stdout, stderr)\n",
      "\u001b[0;31mCalledProcessError\u001b[0m: Command '['mmdc', '-i', 'generated/diagram.mmd', '-o', 'generated/mermaid.png']' returned non-zero exit status 1."
     ]
    }
   ],
   "source": [
    "def convert_mermaid_to_png(input_mmd, output_png):\n",
    "    try:\n",
    "        # Run mermaid-cli to convert the Mermaid diagram to a PNG\n",
    "        subprocess.run([\"mmdc\", \"-i\", input_mmd, \"-o\", output_png], check=True)\n",
    "        print(f\"Successfully converted {input_mmd} to {output_png}\")\n",
    "    except subprocess.CalledProcessError as e:\n",
    "        print( \"Error\", f\"Failed to convert Mermaid to PNG: {str(e)}\")\n",
    "        raise\n",
    "\n",
    "mermaid_png=\"generated/mermaid.png\"\n",
    "convert_mermaid_to_png(mermaid_file, mermaid_png)"
   ]
  }
 ],
 "metadata": {
  "kernelspec": {
   "display_name": ".venv",
   "language": "python",
   "name": "python3"
  },
  "language_info": {
   "codemirror_mode": {
    "name": "ipython",
    "version": 3
   },
   "file_extension": ".py",
   "mimetype": "text/x-python",
   "name": "python",
   "nbconvert_exporter": "python",
   "pygments_lexer": "ipython3",
   "version": "3.12.3"
  }
 },
 "nbformat": 4,
 "nbformat_minor": 2
}
